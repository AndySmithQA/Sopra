{
 "cells": [
  {
   "cell_type": "code",
   "execution_count": 2,
   "id": "fc7d005f",
   "metadata": {},
   "outputs": [
    {
     "name": "stdout",
     "output_type": "stream",
     "text": [
      "hi\n"
     ]
    }
   ],
   "source": [
    "print(\"hi\")"
   ]
  },
  {
   "cell_type": "code",
   "execution_count": 5,
   "id": "2297fc69",
   "metadata": {},
   "outputs": [],
   "source": [
    "a = 65\n",
    "b=55\n"
   ]
  },
  {
   "cell_type": "code",
   "execution_count": 6,
   "id": "61fc7ae9",
   "metadata": {},
   "outputs": [
    {
     "data": {
      "text/plain": [
       "65"
      ]
     },
     "execution_count": 6,
     "metadata": {},
     "output_type": "execute_result"
    }
   ],
   "source": [
    "a"
   ]
  },
  {
   "cell_type": "code",
   "execution_count": 7,
   "id": "04eb11f2",
   "metadata": {},
   "outputs": [
    {
     "data": {
      "text/plain": [
       "55"
      ]
     },
     "execution_count": 7,
     "metadata": {},
     "output_type": "execute_result"
    }
   ],
   "source": [
    "b"
   ]
  },
  {
   "cell_type": "code",
   "execution_count": 8,
   "id": "f637d19f",
   "metadata": {},
   "outputs": [],
   "source": [
    "#Big Title"
   ]
  },
  {
   "cell_type": "code",
   "execution_count": 9,
   "id": "6e5f50be",
   "metadata": {},
   "outputs": [],
   "source": [
    "# Big title"
   ]
  },
  {
   "cell_type": "code",
   "execution_count": 11,
   "id": "fda58602",
   "metadata": {},
   "outputs": [],
   "source": [
    "## Big "
   ]
  },
  {
   "cell_type": "code",
   "execution_count": 12,
   "id": "7ecbadf6",
   "metadata": {},
   "outputs": [],
   "source": [
    "##Biog"
   ]
  },
  {
   "cell_type": "code",
   "execution_count": 13,
   "id": "f2974eeb",
   "metadata": {},
   "outputs": [],
   "source": [
    "### Bog"
   ]
  },
  {
   "cell_type": "code",
   "execution_count": 14,
   "id": "4f9db703",
   "metadata": {},
   "outputs": [
    {
     "ename": "SyntaxError",
     "evalue": "invalid syntax (583614263.py, line 1)",
     "output_type": "error",
     "traceback": [
      "\u001b[1;36m  Cell \u001b[1;32mIn[14], line 1\u001b[1;36m\u001b[0m\n\u001b[1;33m    ===== BIG HEADING =====\u001b[0m\n\u001b[1;37m    ^\u001b[0m\n\u001b[1;31mSyntaxError\u001b[0m\u001b[1;31m:\u001b[0m invalid syntax\n"
     ]
    }
   ],
   "source": [
    "===== BIG HEADING ====="
   ]
  },
  {
   "cell_type": "markdown",
   "id": "93ccb593",
   "metadata": {},
   "source": [
    "## Big Header"
   ]
  },
  {
   "cell_type": "code",
   "execution_count": 15,
   "id": "6dbace3b",
   "metadata": {},
   "outputs": [],
   "source": [
    "a = 77"
   ]
  },
  {
   "cell_type": "code",
   "execution_count": 16,
   "id": "3a353ed2",
   "metadata": {},
   "outputs": [
    {
     "data": {
      "text/plain": [
       "77"
      ]
     },
     "execution_count": 16,
     "metadata": {},
     "output_type": "execute_result"
    }
   ],
   "source": [
    "a"
   ]
  },
  {
   "cell_type": "code",
   "execution_count": 17,
   "id": "bc0e0130",
   "metadata": {},
   "outputs": [],
   "source": [
    "name = \"Dave\""
   ]
  },
  {
   "cell_type": "code",
   "execution_count": 18,
   "id": "95ba2f12",
   "metadata": {},
   "outputs": [
    {
     "data": {
      "text/plain": [
       "'Dave is 77'"
      ]
     },
     "execution_count": 18,
     "metadata": {},
     "output_type": "execute_result"
    }
   ],
   "source": [
    "f\"{name} is {a}\""
   ]
  },
  {
   "cell_type": "code",
   "execution_count": 19,
   "id": "8254311c",
   "metadata": {},
   "outputs": [
    {
     "name": "stdout",
     "output_type": "stream",
     "text": [
      "{name} is {a}\n"
     ]
    }
   ],
   "source": [
    "print(\"{name} is {a}\")"
   ]
  },
  {
   "cell_type": "code",
   "execution_count": 20,
   "id": "c7e9c040",
   "metadata": {},
   "outputs": [
    {
     "name": "stdout",
     "output_type": "stream",
     "text": [
      "Dave is 77\n"
     ]
    }
   ],
   "source": [
    "print(f\"{name} is {a}\")"
   ]
  },
  {
   "cell_type": "code",
   "execution_count": null,
   "id": "bc904a99",
   "metadata": {},
   "outputs": [],
   "source": []
  }
 ],
 "metadata": {
  "kernelspec": {
   "display_name": "Python 3 (ipykernel)",
   "language": "python",
   "name": "python3"
  },
  "language_info": {
   "codemirror_mode": {
    "name": "ipython",
    "version": 3
   },
   "file_extension": ".py",
   "mimetype": "text/x-python",
   "name": "python",
   "nbconvert_exporter": "python",
   "pygments_lexer": "ipython3",
   "version": "3.10.9"
  }
 },
 "nbformat": 4,
 "nbformat_minor": 5
}
